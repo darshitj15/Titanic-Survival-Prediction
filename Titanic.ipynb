{
 "cells": [
  {
   "cell_type": "code",
   "execution_count": 1,
   "metadata": {},
   "outputs": [],
   "source": [
    "import pandas as pd\n",
    "import numpy as np"
   ]
  },
  {
   "cell_type": "code",
   "execution_count": 2,
   "metadata": {},
   "outputs": [],
   "source": [
    "titanic = pd.read_csv('train.csv')"
   ]
  },
  {
   "cell_type": "code",
   "execution_count": 3,
   "metadata": {},
   "outputs": [
    {
     "data": {
      "text/html": [
       "<div>\n",
       "<style scoped>\n",
       "    .dataframe tbody tr th:only-of-type {\n",
       "        vertical-align: middle;\n",
       "    }\n",
       "\n",
       "    .dataframe tbody tr th {\n",
       "        vertical-align: top;\n",
       "    }\n",
       "\n",
       "    .dataframe thead th {\n",
       "        text-align: right;\n",
       "    }\n",
       "</style>\n",
       "<table border=\"1\" class=\"dataframe\">\n",
       "  <thead>\n",
       "    <tr style=\"text-align: right;\">\n",
       "      <th></th>\n",
       "      <th>PassengerId</th>\n",
       "      <th>Survived</th>\n",
       "      <th>Pclass</th>\n",
       "      <th>Name</th>\n",
       "      <th>Sex</th>\n",
       "      <th>Age</th>\n",
       "      <th>SibSp</th>\n",
       "      <th>Parch</th>\n",
       "      <th>Ticket</th>\n",
       "      <th>Fare</th>\n",
       "      <th>Cabin</th>\n",
       "      <th>Embarked</th>\n",
       "    </tr>\n",
       "  </thead>\n",
       "  <tbody>\n",
       "    <tr>\n",
       "      <th>0</th>\n",
       "      <td>1</td>\n",
       "      <td>0</td>\n",
       "      <td>3</td>\n",
       "      <td>Braund, Mr. Owen Harris</td>\n",
       "      <td>male</td>\n",
       "      <td>22.0</td>\n",
       "      <td>1</td>\n",
       "      <td>0</td>\n",
       "      <td>A/5 21171</td>\n",
       "      <td>7.2500</td>\n",
       "      <td>NaN</td>\n",
       "      <td>S</td>\n",
       "    </tr>\n",
       "    <tr>\n",
       "      <th>1</th>\n",
       "      <td>2</td>\n",
       "      <td>1</td>\n",
       "      <td>1</td>\n",
       "      <td>Cumings, Mrs. John Bradley (Florence Briggs Th...</td>\n",
       "      <td>female</td>\n",
       "      <td>38.0</td>\n",
       "      <td>1</td>\n",
       "      <td>0</td>\n",
       "      <td>PC 17599</td>\n",
       "      <td>71.2833</td>\n",
       "      <td>C85</td>\n",
       "      <td>C</td>\n",
       "    </tr>\n",
       "    <tr>\n",
       "      <th>2</th>\n",
       "      <td>3</td>\n",
       "      <td>1</td>\n",
       "      <td>3</td>\n",
       "      <td>Heikkinen, Miss. Laina</td>\n",
       "      <td>female</td>\n",
       "      <td>26.0</td>\n",
       "      <td>0</td>\n",
       "      <td>0</td>\n",
       "      <td>STON/O2. 3101282</td>\n",
       "      <td>7.9250</td>\n",
       "      <td>NaN</td>\n",
       "      <td>S</td>\n",
       "    </tr>\n",
       "    <tr>\n",
       "      <th>3</th>\n",
       "      <td>4</td>\n",
       "      <td>1</td>\n",
       "      <td>1</td>\n",
       "      <td>Futrelle, Mrs. Jacques Heath (Lily May Peel)</td>\n",
       "      <td>female</td>\n",
       "      <td>35.0</td>\n",
       "      <td>1</td>\n",
       "      <td>0</td>\n",
       "      <td>113803</td>\n",
       "      <td>53.1000</td>\n",
       "      <td>C123</td>\n",
       "      <td>S</td>\n",
       "    </tr>\n",
       "    <tr>\n",
       "      <th>4</th>\n",
       "      <td>5</td>\n",
       "      <td>0</td>\n",
       "      <td>3</td>\n",
       "      <td>Allen, Mr. William Henry</td>\n",
       "      <td>male</td>\n",
       "      <td>35.0</td>\n",
       "      <td>0</td>\n",
       "      <td>0</td>\n",
       "      <td>373450</td>\n",
       "      <td>8.0500</td>\n",
       "      <td>NaN</td>\n",
       "      <td>S</td>\n",
       "    </tr>\n",
       "  </tbody>\n",
       "</table>\n",
       "</div>"
      ],
      "text/plain": [
       "   PassengerId  Survived  Pclass  \\\n",
       "0            1         0       3   \n",
       "1            2         1       1   \n",
       "2            3         1       3   \n",
       "3            4         1       1   \n",
       "4            5         0       3   \n",
       "\n",
       "                                                Name     Sex   Age  SibSp  \\\n",
       "0                            Braund, Mr. Owen Harris    male  22.0      1   \n",
       "1  Cumings, Mrs. John Bradley (Florence Briggs Th...  female  38.0      1   \n",
       "2                             Heikkinen, Miss. Laina  female  26.0      0   \n",
       "3       Futrelle, Mrs. Jacques Heath (Lily May Peel)  female  35.0      1   \n",
       "4                           Allen, Mr. William Henry    male  35.0      0   \n",
       "\n",
       "   Parch            Ticket     Fare Cabin Embarked  \n",
       "0      0         A/5 21171   7.2500   NaN        S  \n",
       "1      0          PC 17599  71.2833   C85        C  \n",
       "2      0  STON/O2. 3101282   7.9250   NaN        S  \n",
       "3      0            113803  53.1000  C123        S  \n",
       "4      0            373450   8.0500   NaN        S  "
      ]
     },
     "execution_count": 3,
     "metadata": {},
     "output_type": "execute_result"
    }
   ],
   "source": [
    "titanic.head()"
   ]
  },
  {
   "cell_type": "markdown",
   "metadata": {},
   "source": [
    "## Dropping Name and Ticket as they are not impacting outcome"
   ]
  },
  {
   "cell_type": "code",
   "execution_count": 4,
   "metadata": {},
   "outputs": [],
   "source": [
    "titanic = titanic.drop(columns=['Name','Ticket'])"
   ]
  },
  {
   "cell_type": "code",
   "execution_count": 5,
   "metadata": {},
   "outputs": [
    {
     "data": {
      "text/plain": [
       "PassengerId    891\n",
       "Survived       891\n",
       "Pclass         891\n",
       "Sex            891\n",
       "Age            714\n",
       "SibSp          891\n",
       "Parch          891\n",
       "Fare           891\n",
       "Cabin          204\n",
       "Embarked       889\n",
       "dtype: int64"
      ]
     },
     "execution_count": 5,
     "metadata": {},
     "output_type": "execute_result"
    }
   ],
   "source": [
    "titanic.count()"
   ]
  },
  {
   "cell_type": "markdown",
   "metadata": {},
   "source": [
    "### Total survived and who did not survive"
   ]
  },
  {
   "cell_type": "code",
   "execution_count": 6,
   "metadata": {},
   "outputs": [
    {
     "name": "stdout",
     "output_type": "stream",
     "text": [
      "Survived: 342\n",
      "Did not survive: 549\n"
     ]
    }
   ],
   "source": [
    "print('Survived: '+str(titanic[titanic.Survived==1][\"PassengerId\"].count()))\n",
    "print('Did not survive: '+str( titanic[titanic.Survived==0][\"PassengerId\"].count()))"
   ]
  },
  {
   "cell_type": "markdown",
   "metadata": {},
   "source": [
    "## Survival chance based on boarding point"
   ]
  },
  {
   "cell_type": "code",
   "execution_count": 7,
   "metadata": {},
   "outputs": [
    {
     "name": "stdout",
     "output_type": "stream",
     "text": [
      "Total from Southampton: 644\n",
      "Survived from Southampton: 217\n",
      "Did not survived from Southampton: 427\n"
     ]
    }
   ],
   "source": [
    "print('Total from Southampton: '+str(titanic[titanic['Embarked']=='S']['PassengerId'].count()))\n",
    "print('Survived from Southampton: '+str(titanic[(titanic['Embarked']=='S') & (titanic['Survived']==1)]['PassengerId'].count()))\n",
    "print('Did not survived from Southampton: '+str(titanic[(titanic['Embarked']=='S') & (titanic['Survived']==0)]['PassengerId'].count()))"
   ]
  },
  {
   "cell_type": "code",
   "execution_count": 8,
   "metadata": {},
   "outputs": [
    {
     "name": "stdout",
     "output_type": "stream",
     "text": [
      "Total from Cherbourg: 168\n",
      "Survived from Cherbourg: 93\n",
      "Did not survive from Cherbourg: 75\n"
     ]
    }
   ],
   "source": [
    "print('Total from Cherbourg: '+str(titanic[titanic['Embarked']=='C']['PassengerId'].count()))\n",
    "print('Survived from Cherbourg: '+str(titanic[(titanic['Embarked']=='C') & (titanic['Survived']==1)]['PassengerId'].count()))\n",
    "print('Did not survive from Cherbourg: '+str(titanic[(titanic['Embarked']=='C') & (titanic['Survived']==0)]['PassengerId'].count()))"
   ]
  },
  {
   "cell_type": "code",
   "execution_count": 9,
   "metadata": {},
   "outputs": [
    {
     "name": "stdout",
     "output_type": "stream",
     "text": [
      "Total from Queenstown: 77\n",
      "Survived from Queenstown: 30\n",
      "Did not survive from Queenstown: 47\n"
     ]
    }
   ],
   "source": [
    "print('Total from Queenstown: '+str(titanic[titanic['Embarked']=='Q']['PassengerId'].count()))\n",
    "print('Survived from Queenstown: '+str(titanic[(titanic['Embarked']=='Q') & (titanic['Survived']==1)]['PassengerId'].count()))\n",
    "print('Did not survive from Queenstown: '+str(titanic[(titanic['Embarked']=='Q') & (titanic['Survived']==0)]['PassengerId'].count()))"
   ]
  },
  {
   "cell_type": "markdown",
   "metadata": {},
   "source": [
    "## Visualizing Age Distribution of Passengers"
   ]
  },
  {
   "cell_type": "code",
   "execution_count": 12,
   "metadata": {},
   "outputs": [
    {
     "name": "stderr",
     "output_type": "stream",
     "text": [
      "C:\\Users\\darsh\\Anaconda3\\lib\\site-packages\\numpy\\lib\\histograms.py:824: RuntimeWarning: invalid value encountered in greater_equal\n",
      "  keep = (tmp_a >= first_edge)\n",
      "C:\\Users\\darsh\\Anaconda3\\lib\\site-packages\\numpy\\lib\\histograms.py:825: RuntimeWarning: invalid value encountered in less_equal\n",
      "  keep &= (tmp_a <= last_edge)\n"
     ]
    },
    {
     "data": {
      "image/png": "[encoded data removed]",
      "text/plain": [
       "<Figure size 432x288 with 1 Axes>"
      ]
     },
     "metadata": {
      "needs_background": "light"
     },
     "output_type": "display_data"
    },
    {
     "data": {
      "text/plain": [
       "(array([ 0.42 ,  8.378, 16.336, 24.294, 32.252, 40.21 , 48.168, 56.126,\n",
       "        64.084, 72.042, 80.   ]),\n",
       " array([ 54.,  46., 177., 169., 118.,  70.,  45.,  24.,   9.,   2.]))"
      ]
     },
     "execution_count": 12,
     "metadata": {},
     "output_type": "execute_result"
    }
   ],
   "source": [
    "import matplotlib.pyplot as plt\n",
    "n, bins, patches = plt.hist(titanic.Age, edgecolor='black')\n",
    "plt.show()\n",
    "\n",
    "#display bin boundaries and frequency per bin \n",
    "bins, n"
   ]
  },
  {
   "cell_type": "markdown",
   "metadata": {},
   "source": [
    "## Survival Chance based on Gender"
   ]
  },
  {
   "cell_type": "code",
   "execution_count": 13,
   "metadata": {},
   "outputs": [
    {
     "name": "stdout",
     "output_type": "stream",
     "text": [
      "Male Total: 577\n",
      "Male Survived: 109\n",
      "Male Died: 468\n"
     ]
    }
   ],
   "source": [
    "print('Male Total: '+str(titanic[titanic['Sex']=='male']['PassengerId'].count()))\n",
    "print('Male Survived: ' + str(titanic[(titanic['Sex']=='male') & (titanic['Survived']==1)]['PassengerId'].count()))\n",
    "print('Male Died: '+str(titanic[(titanic['Sex']=='male') & (titanic['Survived']==0)]['PassengerId'].count()))"
   ]
  },
  {
   "cell_type": "code",
   "execution_count": 14,
   "metadata": {},
   "outputs": [
    {
     "name": "stdout",
     "output_type": "stream",
     "text": [
      "Female Total: 314\n",
      "Female Survived: 233\n",
      "Female Died: 81\n"
     ]
    }
   ],
   "source": [
    "print('Female Total: '+str(titanic[titanic['Sex']=='female']['PassengerId'].count()))\n",
    "print('Female Survived: ' + str(titanic[(titanic['Sex']=='female') & (titanic['Survived']==1)]['PassengerId'].count()))\n",
    "print('Female Died: '+str(titanic[(titanic['Sex']=='female') & (titanic['Survived']==0)]['PassengerId'].count()))"
   ]
  },
  {
   "cell_type": "code",
   "execution_count": 15,
   "metadata": {},
   "outputs": [
    {
     "data": {
      "image/png": "[encoded data removed]",
      "text/plain": [
       "<Figure size 432x288 with 1 Axes>"
      ]
     },
     "metadata": {},
     "output_type": "display_data"
    }
   ],
   "source": [
    "labels=\"Male Survived\",\"Male Died\",\"Female Survived\",\"Female Died\"                #assigning the labels.\n",
    "sizes=[109, 468, 233, 81]   \n",
    "fig1, ax1=plt.subplots()   \n",
    "explode=(0,0,0,0)                                       #showing forward position as cutting piece from the pie.\n",
    "ax1.pie(sizes,labels=labels,explode=explode,autopct=\"%2.2f%%\", shadow =True) #\n",
    "ax1.axis(\"equal\")\n",
    "plt.title(\"Survival Chance Based on Gender\",bbox={'facecolor':\"0.6\",\"pad\":1})    #giving title, color and padding.\n",
    "plt.show()"
   ]
  },
  {
   "cell_type": "markdown",
   "metadata": {},
   "source": [
    "## Should missing cabin values be imputed and filled?"
   ]
  },
  {
   "cell_type": "markdown",
   "metadata": {},
   "source": [
    "print('Total filled Cabin Values: '+str(titanic.Cabin.count()))\n",
    "print('Unique total cabin values: '+str(titanic.Cabin.nunique()))"
   ]
  },
  {
   "cell_type": "code",
   "execution_count": 16,
   "metadata": {},
   "outputs": [
    {
     "name": "stdout",
     "output_type": "stream",
     "text": [
      "Survived passenger cabin values: 136\n",
      "Not survived passenger cabin values: 68\n"
     ]
    }
   ],
   "source": [
    "print('Survived passenger cabin values: '+str(titanic[(titanic.Survived==1) & titanic.Cabin.notnull()]['PassengerId'].count()))\n",
    "print('Not survived passenger cabin values: '+str(titanic[(titanic.Survived==0) & titanic.Cabin.notnull()]['PassengerId'].count()))"
   ]
  },
  {
   "cell_type": "markdown",
   "metadata": {},
   "source": [
    "### More than 66.66% of the total present values are unique and more than 70% are missing. Hence, cabin column is not considered in the model."
   ]
  },
  {
   "cell_type": "code",
   "execution_count": 17,
   "metadata": {},
   "outputs": [],
   "source": [
    "titanic = titanic.drop(columns='Cabin')"
   ]
  },
  {
   "cell_type": "markdown",
   "metadata": {},
   "source": [
    "### Survival Rate Based on Number of Siblings and Spouse"
   ]
  },
  {
   "cell_type": "code",
   "execution_count": 18,
   "metadata": {},
   "outputs": [
    {
     "name": "stdout",
     "output_type": "stream",
     "text": [
      "Passengers with one SibSp : 209\n",
      "Suvived passengers: 112\n",
      "Did not survive: 97\n"
     ]
    }
   ],
   "source": [
    "print('Passengers with one SibSp : '+str(titanic[(titanic['SibSp']==1)]['PassengerId'].count()))\n",
    "print('Suvived passengers: '+str(titanic[(titanic['SibSp']==1) & (titanic['Survived']==1)]['PassengerId'].count()))\n",
    "print('Did not survive: '+str(titanic[(titanic['SibSp']==1) & (titanic['Survived']==0)]['PassengerId'].count()))"
   ]
  },
  {
   "cell_type": "code",
   "execution_count": 19,
   "metadata": {},
   "outputs": [
    {
     "name": "stdout",
     "output_type": "stream",
     "text": [
      "Passengers with no SibSp : 608\n",
      "Suvived passengers: 210\n",
      "Did not survive: 398\n"
     ]
    }
   ],
   "source": [
    "print('Passengers with no SibSp : '+str(titanic[(titanic['SibSp']==0)]['PassengerId'].count()))\n",
    "print('Suvived passengers: '+str(titanic[(titanic['SibSp']==0) & (titanic['Survived']==1)]['PassengerId'].count()))\n",
    "print('Did not survive: '+str(titanic[(titanic['SibSp']==0) & (titanic['Survived']==0)]['PassengerId'].count()))"
   ]
  },
  {
   "cell_type": "code",
   "execution_count": 20,
   "metadata": {},
   "outputs": [
    {
     "data": {
      "text/plain": [
       "array([1, 0, 3, 4, 2, 5, 8], dtype=int64)"
      ]
     },
     "execution_count": 20,
     "metadata": {},
     "output_type": "execute_result"
    }
   ],
   "source": [
    "titanic['SibSp'].unique()"
   ]
  },
  {
   "cell_type": "code",
   "execution_count": 21,
   "metadata": {},
   "outputs": [
    {
     "name": "stdout",
     "output_type": "stream",
     "text": [
      "SibSp\n",
      "0    210\n",
      "1    112\n",
      "2     13\n",
      "3      4\n",
      "4      3\n",
      "Name: PassengerId, dtype: int64\n",
      "SibSp\n",
      "0    398\n",
      "1     97\n",
      "2     15\n",
      "3     12\n",
      "4     15\n",
      "5      5\n",
      "8      7\n",
      "Name: PassengerId, dtype: int64\n"
     ]
    }
   ],
   "source": [
    "print(titanic[titanic['Survived']==1].groupby('SibSp')['PassengerId'].count())\n",
    "print(titanic[titanic['Survived']==0].groupby('SibSp')['PassengerId'].count())"
   ]
  },
  {
   "cell_type": "markdown",
   "metadata": {},
   "source": [
    "## Based on Gender and Age\n",
    "### Female and less than 18"
   ]
  },
  {
   "cell_type": "code",
   "execution_count": 22,
   "metadata": {},
   "outputs": [
    {
     "data": {
      "text/plain": [
       "Survived\n",
       "0    17\n",
       "1    38\n",
       "Name: PassengerId, dtype: int64"
      ]
     },
     "execution_count": 22,
     "metadata": {},
     "output_type": "execute_result"
    }
   ],
   "source": [
    "titanic[(titanic.Sex=='female') & (titanic.Age<18)].groupby('Survived')['PassengerId'].count()"
   ]
  },
  {
   "cell_type": "markdown",
   "metadata": {},
   "source": [
    "### Male and less than 18"
   ]
  },
  {
   "cell_type": "code",
   "execution_count": 23,
   "metadata": {},
   "outputs": [
    {
     "data": {
      "text/plain": [
       "Survived\n",
       "0    35\n",
       "1    23\n",
       "Name: PassengerId, dtype: int64"
      ]
     },
     "execution_count": 23,
     "metadata": {},
     "output_type": "execute_result"
    }
   ],
   "source": [
    "titanic[(titanic.Sex=='male') & (titanic.Age<18)].groupby('Survived')['PassengerId'].count()"
   ]
  },
  {
   "cell_type": "markdown",
   "metadata": {},
   "source": [
    "## Checking survival rate based on classes"
   ]
  },
  {
   "cell_type": "code",
   "execution_count": 24,
   "metadata": {},
   "outputs": [
    {
     "name": "stdout",
     "output_type": "stream",
     "text": [
      "Total passengers in 1st class: 216\n",
      "Passengers who survived in 1st class: 136\n",
      "Passengers who did not survive in 1st class: 80\n"
     ]
    }
   ],
   "source": [
    "print('Total passengers in 1st class: ' + str(titanic[titanic.Pclass==1]['PassengerId'].count()))\n",
    "print('Passengers who survived in 1st class: '+str(titanic[(titanic.Pclass==1) & (titanic.Survived==1)]['PassengerId'].count()))\n",
    "print('Passengers who did not survive in 1st class: '+str(titanic[(titanic.Pclass==1) & (titanic.Survived==0)]['PassengerId'].count()))"
   ]
  },
  {
   "cell_type": "code",
   "execution_count": 25,
   "metadata": {},
   "outputs": [
    {
     "name": "stdout",
     "output_type": "stream",
     "text": [
      "Total passengers in 2nd class: 184\n",
      "Passengers who survived in 2nd class: 87\n",
      "Passengers who did not survive in 2nd class: 97\n"
     ]
    }
   ],
   "source": [
    "print('Total passengers in 2nd class: ' + str(titanic[titanic.Pclass==2]['PassengerId'].count()))\n",
    "print('Passengers who survived in 2nd class: '+str(titanic[(titanic.Pclass==2) & (titanic.Survived==1)]['PassengerId'].count()))\n",
    "print('Passengers who did not survive in 2nd class: '+str(titanic[(titanic.Pclass==2) & (titanic.Survived==0)]['PassengerId'].count()))"
   ]
  },
  {
   "cell_type": "code",
   "execution_count": 26,
   "metadata": {},
   "outputs": [
    {
     "name": "stdout",
     "output_type": "stream",
     "text": [
      "Total passengers in 3rd class: 491\n",
      "Passengers who survived in 3rd class: 119\n",
      "Passengers who did not survive in 3rd class: 372\n"
     ]
    }
   ],
   "source": [
    "print('Total passengers in 3rd class: ' + str(titanic[titanic.Pclass==3]['PassengerId'].count()))\n",
    "print('Passengers who survived in 3rd class: '+str(titanic[(titanic.Pclass==3) & (titanic.Survived==1)]['PassengerId'].count()))\n",
    "print('Passengers who did not survive in 3rd class: '+str(titanic[(titanic.Pclass==3) & (titanic.Survived==0)]['PassengerId'].count()))"
   ]
  },
  {
   "cell_type": "markdown",
   "metadata": {},
   "source": [
    "## Checking survival rate for Parent/Children"
   ]
  },
  {
   "cell_type": "code",
   "execution_count": 27,
   "metadata": {},
   "outputs": [
    {
     "name": "stdout",
     "output_type": "stream",
     "text": [
      "678\n",
      "213\n"
     ]
    }
   ],
   "source": [
    "print(titanic[titanic.Parch==0]['PassengerId'].count())\n",
    "print(titanic[titanic.Parch>0]['PassengerId'].count())"
   ]
  },
  {
   "cell_type": "code",
   "execution_count": 28,
   "metadata": {},
   "outputs": [
    {
     "name": "stdout",
     "output_type": "stream",
     "text": [
      "233\n",
      "445\n"
     ]
    }
   ],
   "source": [
    "print(titanic[(titanic.Parch==0) & (titanic.Survived==1)]['PassengerId'].count())\n",
    "print(titanic[(titanic.Parch==0) & (titanic.Survived==0)]['PassengerId'].count())"
   ]
  },
  {
   "cell_type": "code",
   "execution_count": 29,
   "metadata": {},
   "outputs": [
    {
     "name": "stdout",
     "output_type": "stream",
     "text": [
      "109\n",
      "104\n"
     ]
    }
   ],
   "source": [
    "print(titanic[(titanic.Parch>0) & (titanic.Survived==1)]['PassengerId'].count())\n",
    "print(titanic[(titanic.Parch>0) & (titanic.Survived==0)]['PassengerId'].count())"
   ]
  },
  {
   "cell_type": "markdown",
   "metadata": {},
   "source": [
    "## Parent/Children and Gender "
   ]
  },
  {
   "cell_type": "code",
   "execution_count": 30,
   "metadata": {},
   "outputs": [
    {
     "name": "stdout",
     "output_type": "stream",
     "text": [
      "80\n",
      "40\n"
     ]
    }
   ],
   "source": [
    "print(titanic[((titanic.Parch>0) & (titanic.Survived==1)) & (titanic.Sex=='female')]['PassengerId'].count())\n",
    "print(titanic[((titanic.Parch>0) & (titanic.Survived==0)) & (titanic.Sex=='female')]['PassengerId'].count())"
   ]
  },
  {
   "cell_type": "code",
   "execution_count": 31,
   "metadata": {},
   "outputs": [
    {
     "name": "stdout",
     "output_type": "stream",
     "text": [
      "19\n",
      "13\n"
     ]
    }
   ],
   "source": [
    "print(titanic[((titanic.Parch>0) & (titanic.Survived==1)) & ((titanic.Sex=='female') & (titanic.Age<14))]['PassengerId'].count())\n",
    "print(titanic[((titanic.Parch>0) & (titanic.Survived==0)) & ((titanic.Sex=='female') & (titanic.Age<14))]['PassengerId'].count())"
   ]
  },
  {
   "cell_type": "markdown",
   "metadata": {},
   "source": [
    "# Checking Dependency of Fare rates on Pclass\n",
    "## Is fare depedent on Passenger class?"
   ]
  },
  {
   "cell_type": "code",
   "execution_count": 32,
   "metadata": {},
   "outputs": [
    {
     "data": {
      "image/png": "[encoded data removed]",
      "text/plain": [
       "<Figure size 432x288 with 1 Axes>"
      ]
     },
     "metadata": {
      "needs_background": "light"
     },
     "output_type": "display_data"
    }
   ],
   "source": [
    "import matplotlib.pyplot as plt\n",
    "n, bins, patches = plt.hist(titanic.Fare, bins = 20, edgecolor='black')\n",
    "plt.show()"
   ]
  },
  {
   "cell_type": "code",
   "execution_count": 33,
   "metadata": {},
   "outputs": [
    {
     "data": {
      "text/plain": [
       "count    216.000000\n",
       "mean      84.154687\n",
       "std       78.380373\n",
       "min        0.000000\n",
       "25%       30.923950\n",
       "50%       60.287500\n",
       "75%       93.500000\n",
       "max      512.329200\n",
       "Name: Fare, dtype: float64"
      ]
     },
     "execution_count": 33,
     "metadata": {},
     "output_type": "execute_result"
    }
   ],
   "source": [
    "titanic[titanic.Pclass==1]['Fare'].describe()"
   ]
  },
  {
   "cell_type": "code",
   "execution_count": 34,
   "metadata": {},
   "outputs": [
    {
     "data": {
      "text/plain": [
       "count    184.000000\n",
       "mean      20.662183\n",
       "std       13.417399\n",
       "min        0.000000\n",
       "25%       13.000000\n",
       "50%       14.250000\n",
       "75%       26.000000\n",
       "max       73.500000\n",
       "Name: Fare, dtype: float64"
      ]
     },
     "execution_count": 34,
     "metadata": {},
     "output_type": "execute_result"
    }
   ],
   "source": [
    "titanic[titanic.Pclass==2]['Fare'].describe()"
   ]
  },
  {
   "cell_type": "code",
   "execution_count": 35,
   "metadata": {},
   "outputs": [
    {
     "data": {
      "text/plain": [
       "count    491.000000\n",
       "mean      13.675550\n",
       "std       11.778142\n",
       "min        0.000000\n",
       "25%        7.750000\n",
       "50%        8.050000\n",
       "75%       15.500000\n",
       "max       69.550000\n",
       "Name: Fare, dtype: float64"
      ]
     },
     "execution_count": 35,
     "metadata": {},
     "output_type": "execute_result"
    }
   ],
   "source": [
    "titanic[titanic.Pclass==3]['Fare'].describe()"
   ]
  },
  {
   "cell_type": "markdown",
   "metadata": {},
   "source": [
    "## Fare is dependent on Pclass and hence this feature will bring biased in the KNN model. Thus, it is dropped from the model."
   ]
  },
  {
   "cell_type": "markdown",
   "metadata": {},
   "source": [
    "# Data Cleaning"
   ]
  },
  {
   "cell_type": "code",
   "execution_count": 36,
   "metadata": {},
   "outputs": [],
   "source": [
    "titanic = titanic.drop(columns='Fare')"
   ]
  },
  {
   "cell_type": "markdown",
   "metadata": {},
   "source": [
    "### Male and Female are converted to zero and 1"
   ]
  },
  {
   "cell_type": "code",
   "execution_count": 37,
   "metadata": {},
   "outputs": [],
   "source": [
    "titanic['Sex'].replace('male',0,inplace=True)"
   ]
  },
  {
   "cell_type": "code",
   "execution_count": 38,
   "metadata": {},
   "outputs": [],
   "source": [
    "titanic['Sex'].replace('female',1,inplace=True)"
   ]
  },
  {
   "cell_type": "code",
   "execution_count": 39,
   "metadata": {},
   "outputs": [
    {
     "data": {
      "text/html": [
       "<div>\n",
       "<style scoped>\n",
       "    .dataframe tbody tr th:only-of-type {\n",
       "        vertical-align: middle;\n",
       "    }\n",
       "\n",
       "    .dataframe tbody tr th {\n",
       "        vertical-align: top;\n",
       "    }\n",
       "\n",
       "    .dataframe thead th {\n",
       "        text-align: right;\n",
       "    }\n",
       "</style>\n",
       "<table border=\"1\" class=\"dataframe\">\n",
       "  <thead>\n",
       "    <tr style=\"text-align: right;\">\n",
       "      <th></th>\n",
       "      <th>PassengerId</th>\n",
       "      <th>Survived</th>\n",
       "      <th>Pclass</th>\n",
       "      <th>Sex</th>\n",
       "      <th>Age</th>\n",
       "      <th>SibSp</th>\n",
       "      <th>Parch</th>\n",
       "      <th>Embarked</th>\n",
       "    </tr>\n",
       "  </thead>\n",
       "  <tbody>\n",
       "    <tr>\n",
       "      <th>0</th>\n",
       "      <td>1</td>\n",
       "      <td>0</td>\n",
       "      <td>3</td>\n",
       "      <td>0</td>\n",
       "      <td>22.0</td>\n",
       "      <td>1</td>\n",
       "      <td>0</td>\n",
       "      <td>S</td>\n",
       "    </tr>\n",
       "    <tr>\n",
       "      <th>1</th>\n",
       "      <td>2</td>\n",
       "      <td>1</td>\n",
       "      <td>1</td>\n",
       "      <td>1</td>\n",
       "      <td>38.0</td>\n",
       "      <td>1</td>\n",
       "      <td>0</td>\n",
       "      <td>C</td>\n",
       "    </tr>\n",
       "    <tr>\n",
       "      <th>2</th>\n",
       "      <td>3</td>\n",
       "      <td>1</td>\n",
       "      <td>3</td>\n",
       "      <td>1</td>\n",
       "      <td>26.0</td>\n",
       "      <td>0</td>\n",
       "      <td>0</td>\n",
       "      <td>S</td>\n",
       "    </tr>\n",
       "    <tr>\n",
       "      <th>3</th>\n",
       "      <td>4</td>\n",
       "      <td>1</td>\n",
       "      <td>1</td>\n",
       "      <td>1</td>\n",
       "      <td>35.0</td>\n",
       "      <td>1</td>\n",
       "      <td>0</td>\n",
       "      <td>S</td>\n",
       "    </tr>\n",
       "    <tr>\n",
       "      <th>4</th>\n",
       "      <td>5</td>\n",
       "      <td>0</td>\n",
       "      <td>3</td>\n",
       "      <td>0</td>\n",
       "      <td>35.0</td>\n",
       "      <td>0</td>\n",
       "      <td>0</td>\n",
       "      <td>S</td>\n",
       "    </tr>\n",
       "    <tr>\n",
       "      <th>...</th>\n",
       "      <td>...</td>\n",
       "      <td>...</td>\n",
       "      <td>...</td>\n",
       "      <td>...</td>\n",
       "      <td>...</td>\n",
       "      <td>...</td>\n",
       "      <td>...</td>\n",
       "      <td>...</td>\n",
       "    </tr>\n",
       "    <tr>\n",
       "      <th>886</th>\n",
       "      <td>887</td>\n",
       "      <td>0</td>\n",
       "      <td>2</td>\n",
       "      <td>0</td>\n",
       "      <td>27.0</td>\n",
       "      <td>0</td>\n",
       "      <td>0</td>\n",
       "      <td>S</td>\n",
       "    </tr>\n",
       "    <tr>\n",
       "      <th>887</th>\n",
       "      <td>888</td>\n",
       "      <td>1</td>\n",
       "      <td>1</td>\n",
       "      <td>1</td>\n",
       "      <td>19.0</td>\n",
       "      <td>0</td>\n",
       "      <td>0</td>\n",
       "      <td>S</td>\n",
       "    </tr>\n",
       "    <tr>\n",
       "      <th>888</th>\n",
       "      <td>889</td>\n",
       "      <td>0</td>\n",
       "      <td>3</td>\n",
       "      <td>1</td>\n",
       "      <td>NaN</td>\n",
       "      <td>1</td>\n",
       "      <td>2</td>\n",
       "      <td>S</td>\n",
       "    </tr>\n",
       "    <tr>\n",
       "      <th>889</th>\n",
       "      <td>890</td>\n",
       "      <td>1</td>\n",
       "      <td>1</td>\n",
       "      <td>0</td>\n",
       "      <td>26.0</td>\n",
       "      <td>0</td>\n",
       "      <td>0</td>\n",
       "      <td>C</td>\n",
       "    </tr>\n",
       "    <tr>\n",
       "      <th>890</th>\n",
       "      <td>891</td>\n",
       "      <td>0</td>\n",
       "      <td>3</td>\n",
       "      <td>0</td>\n",
       "      <td>32.0</td>\n",
       "      <td>0</td>\n",
       "      <td>0</td>\n",
       "      <td>Q</td>\n",
       "    </tr>\n",
       "  </tbody>\n",
       "</table>\n",
       "<p>891 rows × 8 columns</p>\n",
       "</div>"
      ],
      "text/plain": [
       "     PassengerId  Survived  Pclass  Sex   Age  SibSp  Parch Embarked\n",
       "0              1         0       3    0  22.0      1      0        S\n",
       "1              2         1       1    1  38.0      1      0        C\n",
       "2              3         1       3    1  26.0      0      0        S\n",
       "3              4         1       1    1  35.0      1      0        S\n",
       "4              5         0       3    0  35.0      0      0        S\n",
       "..           ...       ...     ...  ...   ...    ...    ...      ...\n",
       "886          887         0       2    0  27.0      0      0        S\n",
       "887          888         1       1    1  19.0      0      0        S\n",
       "888          889         0       3    1   NaN      1      2        S\n",
       "889          890         1       1    0  26.0      0      0        C\n",
       "890          891         0       3    0  32.0      0      0        Q\n",
       "\n",
       "[891 rows x 8 columns]"
      ]
     },
     "execution_count": 39,
     "metadata": {},
     "output_type": "execute_result"
    }
   ],
   "source": [
    "titanic"
   ]
  },
  {
   "cell_type": "markdown",
   "metadata": {},
   "source": [
    "### Point of Embarkment is changed to 0, 1, and 2."
   ]
  },
  {
   "cell_type": "code",
   "execution_count": 40,
   "metadata": {},
   "outputs": [],
   "source": [
    "titanic['Embarked'].replace('S',0,inplace=True)\n",
    "titanic['Embarked'].replace('C',1,inplace=True)\n",
    "titanic['Embarked'].replace('Q',2,inplace=True)"
   ]
  },
  {
   "cell_type": "markdown",
   "metadata": {},
   "source": [
    "### Filling two missing values with Southampton as maximum passengers are from Southampton. "
   ]
  },
  {
   "cell_type": "code",
   "execution_count": 41,
   "metadata": {},
   "outputs": [],
   "source": [
    "titanic['Embarked'].fillna(0,inplace=True)"
   ]
  },
  {
   "cell_type": "markdown",
   "metadata": {},
   "source": [
    "### Imputations of the missing values of Age"
   ]
  },
  {
   "cell_type": "code",
   "execution_count": 42,
   "metadata": {},
   "outputs": [],
   "source": [
    "age_mean = round(titanic['Age'].mean())\n",
    "titanic['Age'].fillna(age_mean,inplace=True)"
   ]
  },
  {
   "cell_type": "code",
   "execution_count": 43,
   "metadata": {},
   "outputs": [],
   "source": [
    "test = pd.read_csv('test.csv')"
   ]
  },
  {
   "cell_type": "code",
   "execution_count": 44,
   "metadata": {},
   "outputs": [
    {
     "data": {
      "text/html": [
       "<div>\n",
       "<style scoped>\n",
       "    .dataframe tbody tr th:only-of-type {\n",
       "        vertical-align: middle;\n",
       "    }\n",
       "\n",
       "    .dataframe tbody tr th {\n",
       "        vertical-align: top;\n",
       "    }\n",
       "\n",
       "    .dataframe thead th {\n",
       "        text-align: right;\n",
       "    }\n",
       "</style>\n",
       "<table border=\"1\" class=\"dataframe\">\n",
       "  <thead>\n",
       "    <tr style=\"text-align: right;\">\n",
       "      <th></th>\n",
       "      <th>PassengerId</th>\n",
       "      <th>Pclass</th>\n",
       "      <th>Name</th>\n",
       "      <th>Sex</th>\n",
       "      <th>Age</th>\n",
       "      <th>SibSp</th>\n",
       "      <th>Parch</th>\n",
       "      <th>Ticket</th>\n",
       "      <th>Fare</th>\n",
       "      <th>Cabin</th>\n",
       "      <th>Embarked</th>\n",
       "    </tr>\n",
       "  </thead>\n",
       "  <tbody>\n",
       "    <tr>\n",
       "      <th>0</th>\n",
       "      <td>892</td>\n",
       "      <td>3</td>\n",
       "      <td>Kelly, Mr. James</td>\n",
       "      <td>male</td>\n",
       "      <td>34.5</td>\n",
       "      <td>0</td>\n",
       "      <td>0</td>\n",
       "      <td>330911</td>\n",
       "      <td>7.8292</td>\n",
       "      <td>NaN</td>\n",
       "      <td>Q</td>\n",
       "    </tr>\n",
       "    <tr>\n",
       "      <th>1</th>\n",
       "      <td>893</td>\n",
       "      <td>3</td>\n",
       "      <td>Wilkes, Mrs. James (Ellen Needs)</td>\n",
       "      <td>female</td>\n",
       "      <td>47.0</td>\n",
       "      <td>1</td>\n",
       "      <td>0</td>\n",
       "      <td>363272</td>\n",
       "      <td>7.0000</td>\n",
       "      <td>NaN</td>\n",
       "      <td>S</td>\n",
       "    </tr>\n",
       "    <tr>\n",
       "      <th>2</th>\n",
       "      <td>894</td>\n",
       "      <td>2</td>\n",
       "      <td>Myles, Mr. Thomas Francis</td>\n",
       "      <td>male</td>\n",
       "      <td>62.0</td>\n",
       "      <td>0</td>\n",
       "      <td>0</td>\n",
       "      <td>240276</td>\n",
       "      <td>9.6875</td>\n",
       "      <td>NaN</td>\n",
       "      <td>Q</td>\n",
       "    </tr>\n",
       "    <tr>\n",
       "      <th>3</th>\n",
       "      <td>895</td>\n",
       "      <td>3</td>\n",
       "      <td>Wirz, Mr. Albert</td>\n",
       "      <td>male</td>\n",
       "      <td>27.0</td>\n",
       "      <td>0</td>\n",
       "      <td>0</td>\n",
       "      <td>315154</td>\n",
       "      <td>8.6625</td>\n",
       "      <td>NaN</td>\n",
       "      <td>S</td>\n",
       "    </tr>\n",
       "    <tr>\n",
       "      <th>4</th>\n",
       "      <td>896</td>\n",
       "      <td>3</td>\n",
       "      <td>Hirvonen, Mrs. Alexander (Helga E Lindqvist)</td>\n",
       "      <td>female</td>\n",
       "      <td>22.0</td>\n",
       "      <td>1</td>\n",
       "      <td>1</td>\n",
       "      <td>3101298</td>\n",
       "      <td>12.2875</td>\n",
       "      <td>NaN</td>\n",
       "      <td>S</td>\n",
       "    </tr>\n",
       "  </tbody>\n",
       "</table>\n",
       "</div>"
      ],
      "text/plain": [
       "   PassengerId  Pclass                                          Name     Sex  \\\n",
       "0          892       3                              Kelly, Mr. James    male   \n",
       "1          893       3              Wilkes, Mrs. James (Ellen Needs)  female   \n",
       "2          894       2                     Myles, Mr. Thomas Francis    male   \n",
       "3          895       3                              Wirz, Mr. Albert    male   \n",
       "4          896       3  Hirvonen, Mrs. Alexander (Helga E Lindqvist)  female   \n",
       "\n",
       "    Age  SibSp  Parch   Ticket     Fare Cabin Embarked  \n",
       "0  34.5      0      0   330911   7.8292   NaN        Q  \n",
       "1  47.0      1      0   363272   7.0000   NaN        S  \n",
       "2  62.0      0      0   240276   9.6875   NaN        Q  \n",
       "3  27.0      0      0   315154   8.6625   NaN        S  \n",
       "4  22.0      1      1  3101298  12.2875   NaN        S  "
      ]
     },
     "execution_count": 44,
     "metadata": {},
     "output_type": "execute_result"
    }
   ],
   "source": [
    "test.head()"
   ]
  },
  {
   "cell_type": "markdown",
   "metadata": {},
   "source": [
    "## Feature removal and data cleaning for the test dataset"
   ]
  },
  {
   "cell_type": "code",
   "execution_count": 45,
   "metadata": {},
   "outputs": [],
   "source": [
    "test = test[['Pclass','Sex','Age','SibSp','Parch','Embarked']]\n",
    "test['Sex'].replace('male',0,inplace=True)\n",
    "test['Sex'].replace('female',1,inplace=True)\n",
    "test['Embarked'].replace('S',0,inplace=True)\n",
    "test['Embarked'].replace('C',1,inplace=True)\n",
    "test['Embarked'].replace('Q',2,inplace=True)\n",
    "test['Embarked'].fillna(0,inplace=True)\n",
    "test['Age'].fillna(age_mean,inplace=True)"
   ]
  },
  {
   "cell_type": "code",
   "execution_count": 46,
   "metadata": {},
   "outputs": [],
   "source": [
    "X_test = test.values"
   ]
  },
  {
   "cell_type": "code",
   "execution_count": 47,
   "metadata": {},
   "outputs": [
    {
     "data": {
      "text/plain": [
       "array([[ 3. ,  0. , 34.5,  0. ,  0. ,  2. ],\n",
       "       [ 3. ,  1. , 47. ,  1. ,  0. ,  0. ],\n",
       "       [ 2. ,  0. , 62. ,  0. ,  0. ,  2. ],\n",
       "       ...,\n",
       "       [ 3. ,  0. , 38.5,  0. ,  0. ,  0. ],\n",
       "       [ 3. ,  0. , 30. ,  0. ,  0. ,  0. ],\n",
       "       [ 3. ,  0. , 30. ,  1. ,  1. ,  1. ]])"
      ]
     },
     "execution_count": 47,
     "metadata": {},
     "output_type": "execute_result"
    }
   ],
   "source": [
    "X_test"
   ]
  },
  {
   "cell_type": "markdown",
   "metadata": {},
   "source": [
    "# Modelling"
   ]
  },
  {
   "cell_type": "code",
   "execution_count": 48,
   "metadata": {},
   "outputs": [],
   "source": [
    "X = titanic[['Pclass','Sex','Age','SibSp','Parch','Embarked']]"
   ]
  },
  {
   "cell_type": "code",
   "execution_count": 49,
   "metadata": {},
   "outputs": [],
   "source": [
    "y = titanic[['Survived']]"
   ]
  },
  {
   "cell_type": "code",
   "execution_count": 50,
   "metadata": {},
   "outputs": [
    {
     "data": {
      "text/plain": [
       "array([[ 3.,  0., 22.,  1.,  0.,  0.],\n",
       "       [ 1.,  1., 38.,  1.,  0.,  1.],\n",
       "       [ 3.,  1., 26.,  0.,  0.,  0.],\n",
       "       ...,\n",
       "       [ 3.,  1., 30.,  1.,  2.,  0.],\n",
       "       [ 1.,  0., 26.,  0.,  0.,  1.],\n",
       "       [ 3.,  0., 32.,  0.,  0.,  2.]])"
      ]
     },
     "execution_count": 50,
     "metadata": {},
     "output_type": "execute_result"
    }
   ],
   "source": [
    "X_train = X.values\n",
    "X_train"
   ]
  },
  {
   "cell_type": "code",
   "execution_count": 51,
   "metadata": {},
   "outputs": [],
   "source": [
    "y_train = [i[0] for i in y.values]"
   ]
  },
  {
   "cell_type": "markdown",
   "metadata": {},
   "source": [
    "## KNearest Neighbor Model"
   ]
  },
  {
   "cell_type": "code",
   "execution_count": 52,
   "metadata": {},
   "outputs": [],
   "source": [
    "class KNN:\n",
    "    \n",
    "    \"\"\" For the titanic dataset, the best prediction for k is seen as 3.\n",
    "    Keeping default value of k as 3. To enable calculation with all distances, p is also taken.\n",
    "    For this dataset, we will use p=2 as default which becomes Euclidean distance. \"\"\"\n",
    "    \n",
    "    \"\"\"Value of p can be changed to use Minkowski Distance. \"\"\"\n",
    "    \n",
    "    def __init__(self, k=3, p=2):\n",
    "        self.k = k\n",
    "        self.p = p\n",
    "\n",
    "    def fit(self, X_train, y_train):\n",
    "        \"\"\" This function is initialized to take input of training features and training labels\"\"\"\n",
    "        self.X_train = X_train\n",
    "        self.y_train = y_train\n",
    "\n",
    "    def predict(self, X_test):\n",
    "        \n",
    "        \"\"\" This function is initialized to predict the values for test dataset of titanic.\"\"\"\n",
    "        \n",
    "        minkowski_matrix = self.calculate_minkowski_distance(X_test)\n",
    "        return self.final_classified_output(minkowski_matrix)\n",
    "\n",
    "    def calculate_minkowski_distance(self, X_test):\n",
    "        \n",
    "        \"\"\" Formula of the Minkowski distance is kept in this function to calculate distances \n",
    "        between trained and test data.\"\"\"\n",
    "        \n",
    "        col_test_length, col_test_width = X_test.shape\n",
    "        \n",
    "        col_train_length, col_train_width = self.X_train.shape\n",
    "        \n",
    "        # First create a matrix with number of test rows as rows and number of train rows as columns  \n",
    "        \n",
    "        minkowski_matrix = np.zeros((col_test_length, col_train_length))\n",
    "\n",
    "        # Calculate distance for each row value in test data with each value in training data.\n",
    "        for i in range(col_test_length):\n",
    "            for j in range(col_train_length):\n",
    "                # Distance calculation\n",
    "                minkowski_matrix[i, j] = (np.sum(abs(X_test[i, :] - self.X_train[j, :]) ** self.p))**(1/self.p)\n",
    "        return minkowski_matrix\n",
    "\n",
    "    def final_classified_output(self, minkowski_matrix):\n",
    "        #print(minkowski_matrix) #Debugging\n",
    "        col_test_length, col_test_width = minkowski_matrix.shape\n",
    "        classify_array = np.zeros(col_test_length)\n",
    "\n",
    "        for i in range(col_test_length):\n",
    "            # Finding the closest points indexes for ith array.\n",
    "            index_sorting = np.argsort(minkowski_matrix[i, :])\n",
    "            \n",
    "            # From the sorted array, fetch the value for ith array's k closest points.\n",
    "            nearbyclasses = np.array(self.y_train)[index_sorting[:self.k]]\n",
    "            \n",
    "            # Find class which is seen highest in the k nearest values and then fetch it using argmax. \n",
    "            classify_array[i] = np.argmax(np.bincount(nearbyclasses))\n",
    "\n",
    "        return classify_array"
   ]
  },
  {
   "cell_type": "markdown",
   "metadata": {},
   "source": [
    "## Splitting the data for validation and checking accuracy before implementing on test dataset."
   ]
  },
  {
   "cell_type": "code",
   "execution_count": 56,
   "metadata": {},
   "outputs": [
    {
     "name": "stdout",
     "output_type": "stream",
     "text": [
      "0.8071748878923767\n"
     ]
    }
   ],
   "source": [
    "from sklearn.model_selection import train_test_split\n",
    "X_train_val, X_test_val, y_train_val, y_test_val = train_test_split(X_train, y_train, random_state=20)\n",
    "validating = KNN(k=3,p=2)\n",
    "validating.fit(X_train_val, y_train_val)\n",
    "y_pred_val = validating.predict(X_test_val)\n",
    "from sklearn.metrics import accuracy_score\n",
    "print(accuracy_score(y_test_val, y_pred_val))"
   ]
  },
  {
   "cell_type": "markdown",
   "metadata": {},
   "source": [
    "#### This shows that KNN model could is giving a good accuracy."
   ]
  },
  {
   "cell_type": "markdown",
   "metadata": {},
   "source": [
    "## Training on whole training dataset to use on test dataset."
   ]
  },
  {
   "cell_type": "code",
   "execution_count": 57,
   "metadata": {},
   "outputs": [],
   "source": [
    "mink = KNN(k=3,p=2)\n",
    "mink.fit(X_train, y_train)"
   ]
  },
  {
   "cell_type": "markdown",
   "metadata": {},
   "source": [
    "## Predicting for test dataset for KNN"
   ]
  },
  {
   "cell_type": "code",
   "execution_count": 58,
   "metadata": {},
   "outputs": [],
   "source": [
    "y_pred = mink.predict(X_test)"
   ]
  },
  {
   "cell_type": "markdown",
   "metadata": {},
   "source": [
    "## Random Forest Classifier Training and Validating"
   ]
  },
  {
   "cell_type": "code",
   "execution_count": 59,
   "metadata": {},
   "outputs": [
    {
     "name": "stdout",
     "output_type": "stream",
     "text": [
      "0.8251121076233184\n"
     ]
    }
   ],
   "source": [
    "from sklearn.model_selection import train_test_split\n",
    "from sklearn.ensemble import RandomForestClassifier\n",
    "X_train_val, X_test_val, y_train_val, y_test_val = train_test_split(X_train, y_train, random_state=20)\n",
    "validating_rnd_clf3 = RandomForestClassifier(max_depth=4,n_estimators=50, max_leaf_nodes=8, random_state=50)\n",
    "validating_rnd_clf3.fit(X_train_val, y_train_val)\n",
    "y_pred_val = validating_rnd_clf3.predict(X_test_val)\n",
    "from sklearn.metrics import accuracy_score\n",
    "print(accuracy_score(y_test_val, y_pred_val))"
   ]
  },
  {
   "cell_type": "markdown",
   "metadata": {},
   "source": [
    "#### This shows that Random Forest is also giving good accuracy\n",
    "## Training on whole data and implementing on test dataset"
   ]
  },
  {
   "cell_type": "code",
   "execution_count": 60,
   "metadata": {},
   "outputs": [],
   "source": [
    "import numpy as np\n",
    "from sklearn.ensemble import RandomForestClassifier\n",
    "\n",
    "rnd_clf3 = RandomForestClassifier(max_depth=4,n_estimators=50, max_leaf_nodes=8, random_state=50)\n",
    "rnd_clf3.fit(X_train, y_train)\n",
    "\n",
    "y_pred_rf3 = rnd_clf3.predict(X_test)"
   ]
  },
  {
   "cell_type": "markdown",
   "metadata": {},
   "source": [
    "## Gaussian Naive Bayes Classifier training and validating"
   ]
  },
  {
   "cell_type": "code",
   "execution_count": 62,
   "metadata": {},
   "outputs": [
    {
     "name": "stdout",
     "output_type": "stream",
     "text": [
      "0.8161434977578476\n"
     ]
    }
   ],
   "source": [
    "from sklearn.model_selection import train_test_split\n",
    "from sklearn.ensemble import RandomForestClassifier\n",
    "from sklearn.naive_bayes import GaussianNB\n",
    "X_train_val, X_test_val, y_train_val, y_test_val = train_test_split(X_train, y_train, random_state=20)\n",
    "gnb = GaussianNB()\n",
    "y_pred_val = gnb.fit(X_train_val, y_train_val).predict(X_test_val)\n",
    "from sklearn.metrics import accuracy_score\n",
    "print(accuracy_score(y_test_val, y_pred_val))"
   ]
  },
  {
   "cell_type": "markdown",
   "metadata": {},
   "source": [
    "#### This shows that Gaussian Naive Bayes is also giving accuracy which is nearby to KNN and Random Forest "
   ]
  },
  {
   "cell_type": "markdown",
   "metadata": {},
   "source": [
    "## Training on whole data for Gaussian Naive Bayes classifier and implementing on test dataset"
   ]
  },
  {
   "cell_type": "code",
   "execution_count": 63,
   "metadata": {},
   "outputs": [],
   "source": [
    "from sklearn.naive_bayes import GaussianNB\n",
    "from sklearn.model_selection import train_test_split\n",
    "gnb = GaussianNB()\n",
    "y_pred_gaussian = gnb.fit(X_train, y_train).predict(X_test)"
   ]
  },
  {
   "cell_type": "markdown",
   "metadata": {},
   "source": [
    "## Create a Dataframe to put values of all models"
   ]
  },
  {
   "cell_type": "code",
   "execution_count": 64,
   "metadata": {},
   "outputs": [],
   "source": [
    "All = pd.DataFrame(y_pred, columns = ['KNN']) \n",
    "All['RandomForest'] = y_pred_rf3\n",
    "All['Gaussian'] = y_pred_gaussian\n",
    "All = All.astype('int64')\n",
    "a = All.values\n"
   ]
  },
  {
   "cell_type": "markdown",
   "metadata": {},
   "source": [
    "## Taking the class which is the output in atleast two models."
   ]
  },
  {
   "cell_type": "markdown",
   "metadata": {},
   "source": [
    "## Final Outcome based on three models in b"
   ]
  },
  {
   "cell_type": "code",
   "execution_count": 65,
   "metadata": {},
   "outputs": [],
   "source": [
    "b=[]\n",
    "for i in a:\n",
    "    b.append(np.argmax(np.bincount(i)))"
   ]
  },
  {
   "cell_type": "code",
   "execution_count": 66,
   "metadata": {},
   "outputs": [],
   "source": [
    "pd.DataFrame(b).to_csv('Final_Prediction.csv')"
   ]
  }
 ],
 "metadata": {
  "kernelspec": {
   "display_name": "Python 3",
   "language": "python",
   "name": "python3"
  },
  "language_info": {
   "codemirror_mode": {
    "name": "ipython",
    "version": 3
   },
   "file_extension": ".py",
   "mimetype": "text/x-python",
   "name": "python",
   "nbconvert_exporter": "python",
   "pygments_lexer": "ipython3",
   "version": "3.7.4"
  }
 },
 "nbformat": 4,
 "nbformat_minor": 4
}
